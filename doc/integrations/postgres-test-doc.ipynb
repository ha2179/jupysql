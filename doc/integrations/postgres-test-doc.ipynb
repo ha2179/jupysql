{
 "cells": [
  {
   "attachments": {},
   "cell_type": "markdown",
   "id": "0e5d0f1c",
   "metadata": {},
   "source": [
    "# PostgreSQL Integration Test Guide\n",
    "\n",
    "This guide will help you with running Integration Tests for PostgreSQL with JupySQL"
   ]
  },
  {
   "attachments": {},
   "cell_type": "markdown",
   "id": "ac901820",
   "metadata": {},
   "source": [
    "To run this tutorial you will need to start with setting up a local development environment for JupySQL. "
   ]
  },
  {
   "attachments": {},
   "cell_type": "markdown",
   "id": "565f8648",
   "metadata": {},
   "source": [
    "### Step 1 \n",
    "To setup a local development environment follow setup guide over here :\n",
    "[Setup Guide](https://ploomber-contributing.readthedocs.io/en/latest/contributing/setup.html)"
   ]
  },
  {
   "attachments": {},
   "cell_type": "markdown",
   "id": "ddf54361",
   "metadata": {},
   "source": [
    "### Step 2\n",
    "Once the local environment is setup for JupySQL, activate the environment by running"
   ]
  },
  {
   "attachments": {},
   "cell_type": "markdown",
   "id": "98bc699a",
   "metadata": {},
   "source": [
    "```sh\n",
    "conda activate jupysql\n",
    "```"
   ]
  },
  {
   "attachments": {},
   "cell_type": "markdown",
   "id": "88a05f93",
   "metadata": {},
   "source": [
    "### Step 3\n",
    "\n",
    "For testing PostgreSQL Integration we will need to install following dependencies "
   ]
  },
  {
   "attachments": {},
   "cell_type": "markdown",
   "id": "e5a346bc",
   "metadata": {},
   "source": [
    "### Install PostgreSQL client\n",
    "\n",
    "To connect to a PostgreSQL database from Python, you need a client library. We recommend using `psycopg2`, but there are others like `pg8000`, and `asyncpg`. JupySQL supports the [following connectors.](https://docs.sqlalchemy.org/en/14/dialects/postgresql.html#dialect-postgresql)"
   ]
  },
  {
   "attachments": {},
   "cell_type": "markdown",
   "id": "9fb18c1e",
   "metadata": {},
   "source": [
    "#### Installing `psycopg2`\n",
    "If you have `conda` installed, it is more reliable to use it:"
   ]
  },
  {
   "attachments": {},
   "cell_type": "markdown",
   "id": "ee76468e",
   "metadata": {},
   "source": [
    "```sh\n",
    "conda install psycopg2 -c conda-forge\n",
    "```"
   ]
  },
  {
   "attachments": {},
   "cell_type": "markdown",
   "id": "7f132c2c",
   "metadata": {},
   "source": [
    "#### Installing `pgspecial`\n",
    "\n",
    "Ensure that you are using `pgspecial 1.x`. `pgspecial 2.x` has migrated to `psycopg3` and thus does not yield informative error messages."
   ]
  },
  {
   "attachments": {},
   "cell_type": "markdown",
   "id": "c1a17ab5",
   "metadata": {},
   "source": [
    "```sh\n",
    "conda install \"pgspecial<2\" -c conda-forge\n",
    "```"
   ]
  },
  {
   "attachments": {},
   "cell_type": "markdown",
   "id": "b3867555",
   "metadata": {},
   "source": [
    "#### Install dockerctx\n",
    "\n",
    "dockerctx is a context manager for managing the lifetime of a docker container. We'll be using this library as we're spinning up docker container to launch the database instance and running integration tests over it.\n",
    "\n",
    "\n",
    "```{tip}\n",
    "Make sure the earlier dependencies - psycopg2, pgspecial are installed before installing dockerctx, otherwise it might throw an error\n",
    "```\n"
   ]
  },
  {
   "cell_type": "code",
   "execution_count": null,
   "id": "163b77ce",
   "metadata": {},
   "outputs": [],
   "source": [
    "%pip install dockerctx"
   ]
  },
  {
   "attachments": {},
   "cell_type": "markdown",
   "id": "2ab6a626",
   "metadata": {},
   "source": [
    "If you have trouble getting it to work, [message us on Slack.](https://ploomber.io/community)"
   ]
  },
  {
   "attachments": {},
   "cell_type": "markdown",
   "id": "441eb80b",
   "metadata": {},
   "source": [
    "Now as we have the required dependencies, we will spin up a PostgreSQL docker instance to test our integration with the database."
   ]
  },
  {
   "attachments": {},
   "cell_type": "markdown",
   "id": "cc869fb9",
   "metadata": {},
   "source": [
    "To get PostgreSQL instance up and running, you need to install following Python packages:"
   ]
  },
  {
   "cell_type": "code",
   "execution_count": null,
   "id": "b7ce9b76",
   "metadata": {
    "tags": []
   },
   "outputs": [
    {
     "name": "stdout",
     "output_type": "stream",
     "text": [
      "Note: you may need to restart the kernel to use updated packages.\n"
     ]
    }
   ],
   "source": [
    "%pip install jupysql pandas pyarrow --quiet"
   ]
  },
  {
   "attachments": {},
   "cell_type": "markdown",
   "id": "d4f83052",
   "metadata": {},
   "source": [
    "You also need a PostgreSQL connector. Here's a list of [supported connectors.](https://docs.sqlalchemy.org/en/14/dialects/postgresql.html#dialect-postgresql) We recommend using `psycopg2`. The easiest way to install it is via:"
   ]
  },
  {
   "attachments": {},
   "cell_type": "markdown",
   "id": "5e246dc2",
   "metadata": {},
   "source": [
    "```{tip}\n",
    "If you have issues, check out our [installation guide](../howto/postgres-install.md) or [message us on Slack.](https://ploomber.io/community)\n",
    "```"
   ]
  },
  {
   "attachments": {},
   "cell_type": "markdown",
   "id": "5586988f",
   "metadata": {},
   "source": [
    "You also need Docker installed and running to start the PostgreSQL instance."
   ]
  },
  {
   "attachments": {},
   "cell_type": "markdown",
   "id": "6c6092c1",
   "metadata": {},
   "source": [
    "## Start PostgreSQL instance\n",
    "\n",
    "We fetch the official image, create a new database, and user (this will take 1-2 minutes). We are using credentials as defined in test config file at ```\"src/sql/_testing.py\"```"
   ]
  },
  {
   "cell_type": "code",
   "execution_count": null,
   "id": "919dd542",
   "metadata": {
    "tags": []
   },
   "outputs": [
    {
     "name": "stdout",
     "output_type": "stream",
     "text": [
      "fe9f1cf0d371152c64bdedfaa56c13e655a1352068b4c2b616cdf8bb5c3327a8\n"
     ]
    }
   ],
   "source": [
    "%%bash\n",
    "docker run --name postgres -e POSTGRES_DB=db \\\n",
    "  -e POSTGRES_USER=ploomber_app \\\n",
    "  -e POSTGRES_PASSWORD=ploomber_app_password \\\n",
    "  -p 5432:5432 -d postgres"
   ]
  },
  {
   "attachments": {},
   "cell_type": "markdown",
   "id": "dd336465",
   "metadata": {},
   "source": [
    "```{important}\n",
    "Check if docker container is up and running before proceeding forward\n",
    "```"
   ]
  },
  {
   "attachments": {},
   "cell_type": "markdown",
   "id": "cae73725",
   "metadata": {},
   "source": [
    "### Running Integration Tests\n",
    "\n",
    "Now, as we have PostgreSQL docker instance set up we can go ahead and run the integration tests. Integrations tests are located at ```\"src/tests/integration/\"``` we will run them using following commands."
   ]
  },
  {
   "attachments": {},
   "cell_type": "markdown",
   "id": "a802aa91",
   "metadata": {},
   "source": [
    "```sh\n",
    "pytest src/tests/integration/test_postgreSQL.py\n",
    "```"
   ]
  },
  {
   "attachments": {},
   "cell_type": "markdown",
   "id": "ad7a909d",
   "metadata": {},
   "source": [
    "If everything goes well, you'll see the tests Passed as the output after running the command"
   ]
  },
  {
   "attachments": {},
   "cell_type": "markdown",
   "id": "3b843866",
   "metadata": {},
   "source": [
    "The other set of tests which test for generic db operations are located in ```\"src/tests/integration/test_generic_db_operations.py\"```. We will run them for our PostgreSQL DB by running following command"
   ]
  },
  {
   "attachments": {},
   "cell_type": "markdown",
   "id": "e0154e8f",
   "metadata": {},
   "source": [
    "```sh\n",
    "pytest src/tests/integration/test_generic_db_operations.py -k \"ip_with_postgreSQL\"\n",
    "```"
   ]
  },
  {
   "attachments": {},
   "cell_type": "markdown",
   "id": "3048edc5",
   "metadata": {},
   "source": [
    "```\"-k\"``` flag in above command helps us to filter and run the tests which are only specific to PostgreSQL DB integration"
   ]
  },
  {
   "attachments": {},
   "cell_type": "markdown",
   "id": "d375198a",
   "metadata": {},
   "source": [
    "### Common Errors"
   ]
  },
  {
   "attachments": {},
   "cell_type": "markdown",
   "id": "0908a38e",
   "metadata": {},
   "source": [
    "```{Important}\n",
    "The following error might show up if docker is not installed and/or the container is not running. Hence make sure to check if PostgrSQL docker instance is up and running before executing the pytest commands\n",
    "```"
   ]
  },
  {
   "attachments": {},
   "cell_type": "markdown",
   "id": "681d0f6f",
   "metadata": {},
   "source": [
    "```docker.errors.DockerException: Error while fetching server API version: ('Connection aborted.', FileNotFoundError(2, 'No such file or directory'))```"
   ]
  },
  {
   "attachments": {},
   "cell_type": "markdown",
   "id": "90e71436",
   "metadata": {},
   "source": [
    "## Clean up\n",
    "\n",
    "To stop and remove the container:"
   ]
  },
  {
   "cell_type": "code",
   "execution_count": null,
   "id": "561a5f90",
   "metadata": {},
   "outputs": [
    {
     "name": "stdout",
     "output_type": "stream",
     "text": [
      "CONTAINER ID   IMAGE      COMMAND                  CREATED         STATUS         PORTS                    NAMES\n",
      "fe9f1cf0d371   postgres   \"docker-entrypoint.s…\"   6 seconds ago   Up 5 seconds   0.0.0.0:5432->5432/tcp   postgres\n"
     ]
    }
   ],
   "source": [
    "! docker container ls"
   ]
  },
  {
   "cell_type": "code",
   "execution_count": null,
   "id": "fbc3261a",
   "metadata": {},
   "outputs": [],
   "source": [
    "%%capture out\n",
    "! docker container ls --filter ancestor=postgres --quiet"
   ]
  },
  {
   "cell_type": "code",
   "execution_count": null,
   "id": "ee146b23",
   "metadata": {},
   "outputs": [
    {
     "name": "stdout",
     "output_type": "stream",
     "text": [
      "Container id: \n"
     ]
    }
   ],
   "source": [
    "container_id = out.stdout.strip()\n",
    "print(f\"Container id: {container_id}\")"
   ]
  },
  {
   "cell_type": "code",
   "execution_count": null,
   "id": "bd32d5f3",
   "metadata": {},
   "outputs": [
    {
     "name": "stdout",
     "output_type": "stream",
     "text": [
      "\"docker container stop\" requires at least 1 argument.\n",
      "See 'docker container stop --help'.\n",
      "\n",
      "Usage:  docker container stop [OPTIONS] CONTAINER [CONTAINER...]\n",
      "\n",
      "Stop one or more running containers\n"
     ]
    }
   ],
   "source": [
    "! docker container stop {container_id}"
   ]
  },
  {
   "cell_type": "code",
   "execution_count": null,
   "id": "6604151d",
   "metadata": {},
   "outputs": [
    {
     "name": "stdout",
     "output_type": "stream",
     "text": [
      "\"docker container rm\" requires at least 1 argument.\n",
      "See 'docker container rm --help'.\n",
      "\n",
      "Usage:  docker container rm [OPTIONS] CONTAINER [CONTAINER...]\n",
      "\n",
      "Remove one or more containers\n"
     ]
    }
   ],
   "source": [
    "! docker container rm {container_id}"
   ]
  },
  {
   "cell_type": "code",
   "execution_count": null,
   "id": "7fa95fc4",
   "metadata": {},
   "outputs": [
    {
     "name": "stdout",
     "output_type": "stream",
     "text": [
      "CONTAINER ID   IMAGE     COMMAND   CREATED   STATUS    PORTS     NAMES\n"
     ]
    }
   ],
   "source": [
    "! docker container ls"
   ]
  }
 ],
 "metadata": {
  "kernelspec": {
   "display_name": "Python 3 (ipykernel)",
   "language": "python",
   "name": "python3"
  },
  "language_info": {
   "codemirror_mode": {
    "name": "ipython",
    "version": 3
   },
   "file_extension": ".py",
   "mimetype": "text/x-python",
   "name": "python",
   "nbconvert_exporter": "python",
   "pygments_lexer": "ipython3",
   "version": "3.10.11"
  }
 },
 "nbformat": 4,
 "nbformat_minor": 5
}
