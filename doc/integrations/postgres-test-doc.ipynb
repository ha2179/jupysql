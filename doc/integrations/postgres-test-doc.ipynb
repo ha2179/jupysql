{
 "cells": [
  {
   "cell_type": "markdown",
   "id": "0e5d0f1c",
   "metadata": {},
   "source": [
    "# PostgreSQL Integration Test Guide\n",
    "\n",
    "This guide will help you with running Integration Tests for PostgreSQL with JupySQL"
   ]
  },
  {
   "cell_type": "markdown",
   "id": "ac901820",
   "metadata": {},
   "source": [
    "To run this tutorial you will need to start with setting up a local development environment for JupySQL. "
   ]
  },
  {
   "cell_type": "markdown",
   "id": "565f8648",
   "metadata": {},
   "source": [
    "### Step 1 \n",
    "To setup a local development environment follow setup guide over here :\n",
    "[Setup Guide](https://ploomber-contributing.readthedocs.io/en/latest/contributing/setup.html)"
   ]
  },
  {
   "cell_type": "markdown",
   "id": "ddf54361",
   "metadata": {},
   "source": [
    "### Step 2\n",
    "Once the local environment is setup for JupySQL, activate the environment by running"
   ]
  },
  {
   "cell_type": "code",
   "execution_count": null,
   "id": "98bc699a",
   "metadata": {},
   "outputs": [],
   "source": [
    "conda activate jupysql"
   ]
  },
  {
   "cell_type": "markdown",
   "id": "88a05f93",
   "metadata": {},
   "source": [
    "### Step 3\n",
    "\n",
    "For testing PostgreSQL Integration we will need to install following dependencies \n",
    "\n",
    "#### Install dockerctx"
   ]
  },
  {
   "cell_type": "code",
   "execution_count": null,
   "id": "1e88f7e2",
   "metadata": {},
   "outputs": [],
   "source": [
    "pip install dockerctx"
   ]
  },
  {
   "cell_type": "markdown",
   "id": "e5a346bc",
   "metadata": {},
   "source": [
    "### Install PostgreSQL client\n",
    "\n",
    "To connect to a PostgreSQL database from Python, you need a client library. We recommend using `psycopg2`, but there are others like `pg8000`, and `asyncpg`. JupySQL supports the [following connectors.](https://docs.sqlalchemy.org/en/14/dialects/postgresql.html#dialect-postgresql)\n",
    "\n",
    "\n",
    "#### Installing `psycopg2`\n",
    "\n",
    "The simplest way to install `psycopg2` is with the following command:"
   ]
  },
  {
   "cell_type": "code",
   "execution_count": null,
   "id": "2589c31b",
   "metadata": {},
   "outputs": [],
   "source": [
    "pip install psycopg2-binary"
   ]
  },
  {
   "cell_type": "markdown",
   "id": "9fb18c1e",
   "metadata": {},
   "source": [
    "If you have `conda` installed, it is more reliable to use it:"
   ]
  },
  {
   "cell_type": "code",
   "execution_count": null,
   "id": "ee76468e",
   "metadata": {},
   "outputs": [],
   "source": [
    "conda install psycopg2 -c conda-forge"
   ]
  },
  {
   "cell_type": "markdown",
   "id": "7f132c2c",
   "metadata": {},
   "source": [
    "#### Installing `pgspecial`\n",
    "\n",
    "Ensure that you are using `pgspecial 1.x`. `pgspecial 2.x` has migrated to `psycopg3` and thus does not yield informative error messages."
   ]
  },
  {
   "cell_type": "code",
   "execution_count": 6,
   "id": "c1a17ab5",
   "metadata": {},
   "outputs": [],
   "source": [
    "conda install \"pgspecial<2\" -c conda-forge"
   ]
  },
  {
   "cell_type": "markdown",
   "id": "2ab6a626",
   "metadata": {},
   "source": [
    "If you have trouble getting it to work, [message us on Slack.](https://ploomber.io/community)"
   ]
  },
  {
   "cell_type": "code",
   "execution_count": null,
   "id": "bc71cfcd",
   "metadata": {},
   "outputs": [],
   "source": []
  },
  {
   "cell_type": "markdown",
   "id": "441eb80b",
   "metadata": {},
   "source": [
    "Now as we have the required dependencies, we will spin up a PostgreSQL docker instance to test our integration with the database."
   ]
  },
  {
   "cell_type": "markdown",
   "id": "cc869fb9",
   "metadata": {},
   "source": [
    "To get PostgreSQL instance up and running, you need to install following Python packages:"
   ]
  },
  {
   "cell_type": "code",
   "execution_count": 1,
   "id": "b7ce9b76",
   "metadata": {
    "tags": []
   },
   "outputs": [
    {
     "name": "stdout",
     "output_type": "stream",
     "text": [
      "Note: you may need to restart the kernel to use updated packages.\n"
     ]
    }
   ],
   "source": [
    "%pip install jupysql pandas pyarrow --quiet"
   ]
  },
  {
   "cell_type": "markdown",
   "id": "d4f83052",
   "metadata": {},
   "source": [
    "You also need a PostgreSQL connector. Here's a list of [supported connectors.](https://docs.sqlalchemy.org/en/14/dialects/postgresql.html#dialect-postgresql) We recommend using `psycopg2`. The easiest way to install it is via:"
   ]
  },
  {
   "cell_type": "markdown",
   "id": "5e246dc2",
   "metadata": {},
   "source": [
    "```{tip}\n",
    "If you have issues, check out our [installation guide](../howto/postgres-install.md) or [message us on Slack.](https://ploomber.io/community)\n",
    "```\n",
    "\n",
    "You also need Docker installed and running to start the PostgreSQL instance."
   ]
  },
  {
   "cell_type": "markdown",
   "id": "6c6092c1",
   "metadata": {},
   "source": [
    "## Start PostgreSQL instance\n",
    "\n",
    "We fetch the official image, create a new database, and user (this will take 1-2 minutes):"
   ]
  },
  {
   "cell_type": "code",
   "execution_count": 11,
   "id": "919dd542",
   "metadata": {
    "tags": []
   },
   "outputs": [
    {
     "name": "stdout",
     "output_type": "stream",
     "text": [
      "94fa1f440c4c8e632b59fc630dd513c4d653c95c964fd4deddf3430db1223c1b\n"
     ]
    }
   ],
   "source": [
    "%%bash\n",
    "docker run --name postgres -e POSTGRES_DB=db \\\n",
    "  -e POSTGRES_USER=user \\\n",
    "  -e POSTGRES_PASSWORD=password \\\n",
    "  -p 5432:5432 -d postgres"
   ]
  },
  {
   "cell_type": "code",
   "execution_count": null,
   "id": "cae73725",
   "metadata": {},
   "outputs": [],
   "source": []
  },
  {
   "cell_type": "code",
   "execution_count": null,
   "id": "a802aa91",
   "metadata": {},
   "outputs": [],
   "source": []
  },
  {
   "cell_type": "code",
   "execution_count": null,
   "id": "ad7a909d",
   "metadata": {},
   "outputs": [],
   "source": []
  }
 ],
 "metadata": {
  "kernelspec": {
   "display_name": "Python 3 (ipykernel)",
   "language": "python",
   "name": "python3"
  },
  "language_info": {
   "codemirror_mode": {
    "name": "ipython",
    "version": 3
   },
   "file_extension": ".py",
   "mimetype": "text/x-python",
   "name": "python",
   "nbconvert_exporter": "python",
   "pygments_lexer": "ipython3",
   "version": "3.10.11"
  }
 },
 "nbformat": 4,
 "nbformat_minor": 5
}
